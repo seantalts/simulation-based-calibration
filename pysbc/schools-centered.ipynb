{
 "cells": [
  {
   "cell_type": "code",
   "execution_count": 1,
   "metadata": {},
   "outputs": [],
   "source": [
    "%load_ext autoreload\n",
    "%autoreload 2\n",
    "%matplotlib inline"
   ]
  },
  {
   "cell_type": "code",
   "execution_count": 2,
   "metadata": {},
   "outputs": [],
   "source": [
    "from sbc import SBC, rmse_mean, rmse_averaged\n",
    "import numpy as np\n",
    "import pandas as pd\n",
    "import matplotlib as mpl\n",
    "import matplotlib.pyplot as plt\n",
    "mpl.rcParams[\"figure.figsize\"] = \"20, 10\""
   ]
  },
  {
   "cell_type": "code",
   "execution_count": 3,
   "metadata": {},
   "outputs": [
    {
     "name": "stderr",
     "output_type": "stream",
     "text": [
      "INFO:pystan:COMPILING THE C++ CODE FOR MODEL anon_model_0f82723c5c43ac8140f6c1b95a308459 NOW.\n"
     ]
    },
    {
     "name": "stdout",
     "output_type": "stream",
     "text": [
      "Using cached StanModel\n",
      "Using  24  cores.\n"
     ]
    },
    {
     "name": "stderr",
     "output_type": "stream",
     "text": [
      "/home/sean/vsbc/lib/python3.6/site-packages/pystan/misc.py:399: FutureWarning: Conversion of the second argument of issubdtype from `float` to `np.floating` is deprecated. In future, it will be treated as `np.float64 == np.dtype(float).type`.\n",
      "  elif np.issubdtype(np.asarray(v).dtype, float):\n",
      "/home/sean/vsbc/lib/python3.6/site-packages/pystan/misc.py:399: FutureWarning: Conversion of the second argument of issubdtype from `float` to `np.floating` is deprecated. In future, it will be treated as `np.float64 == np.dtype(float).type`.\n",
      "  elif np.issubdtype(np.asarray(v).dtype, float):\n",
      "/home/sean/vsbc/lib/python3.6/site-packages/pystan/misc.py:399: FutureWarning: Conversion of the second argument of issubdtype from `float` to `np.floating` is deprecated. In future, it will be treated as `np.float64 == np.dtype(float).type`.\n",
      "  elif np.issubdtype(np.asarray(v).dtype, float):\n",
      "/home/sean/vsbc/lib/python3.6/site-packages/pystan/misc.py:399: FutureWarning: Conversion of the second argument of issubdtype from `float` to `np.floating` is deprecated. In future, it will be treated as `np.float64 == np.dtype(float).type`.\n",
      "  elif np.issubdtype(np.asarray(v).dtype, float):\n",
      "/home/sean/vsbc/lib/python3.6/site-packages/pystan/misc.py:399: FutureWarning: Conversion of the second argument of issubdtype from `float` to `np.floating` is deprecated. In future, it will be treated as `np.float64 == np.dtype(float).type`.\n",
      "  elif np.issubdtype(np.asarray(v).dtype, float):\n",
      "/home/sean/vsbc/lib/python3.6/site-packages/pystan/misc.py:399: FutureWarning: Conversion of the second argument of issubdtype from `float` to `np.floating` is deprecated. In future, it will be treated as `np.float64 == np.dtype(float).type`.\n",
      "  elif np.issubdtype(np.asarray(v).dtype, float):\n",
      "/home/sean/vsbc/lib/python3.6/site-packages/pystan/misc.py:399: FutureWarning: Conversion of the second argument of issubdtype from `float` to `np.floating` is deprecated. In future, it will be treated as `np.float64 == np.dtype(float).type`.\n",
      "  elif np.issubdtype(np.asarray(v).dtype, float):\n",
      "/home/sean/vsbc/lib/python3.6/site-packages/pystan/misc.py:399: FutureWarning: Conversion of the second argument of issubdtype from `float` to `np.floating` is deprecated. In future, it will be treated as `np.float64 == np.dtype(float).type`.\n",
      "  elif np.issubdtype(np.asarray(v).dtype, float):\n",
      "/home/sean/vsbc/lib/python3.6/site-packages/pystan/misc.py:399: FutureWarning: Conversion of the second argument of issubdtype from `float` to `np.floating` is deprecated. In future, it will be treated as `np.float64 == np.dtype(float).type`.\n",
      "  elif np.issubdtype(np.asarray(v).dtype, float):\n",
      "/home/sean/vsbc/lib/python3.6/site-packages/pystan/misc.py:399: FutureWarning: Conversion of the second argument of issubdtype from `float` to `np.floating` is deprecated. In future, it will be treated as `np.float64 == np.dtype(float).type`.\n",
      "  elif np.issubdtype(np.asarray(v).dtype, float):\n",
      "/home/sean/vsbc/lib/python3.6/site-packages/pystan/misc.py:399: FutureWarning: Conversion of the second argument of issubdtype from `float` to `np.floating` is deprecated. In future, it will be treated as `np.float64 == np.dtype(float).type`.\n",
      "  elif np.issubdtype(np.asarray(v).dtype, float):\n",
      "/home/sean/vsbc/lib/python3.6/site-packages/pystan/misc.py:399: FutureWarning: Conversion of the second argument of issubdtype from `float` to `np.floating` is deprecated. In future, it will be treated as `np.float64 == np.dtype(float).type`.\n",
      "  elif np.issubdtype(np.asarray(v).dtype, float):\n",
      "/home/sean/vsbc/lib/python3.6/site-packages/pystan/misc.py:399: FutureWarning: Conversion of the second argument of issubdtype from `float` to `np.floating` is deprecated. In future, it will be treated as `np.float64 == np.dtype(float).type`.\n",
      "  elif np.issubdtype(np.asarray(v).dtype, float):\n",
      "/home/sean/vsbc/lib/python3.6/site-packages/pystan/misc.py:399: FutureWarning: Conversion of the second argument of issubdtype from `float` to `np.floating` is deprecated. In future, it will be treated as `np.float64 == np.dtype(float).type`.\n",
      "  elif np.issubdtype(np.asarray(v).dtype, float):\n",
      "/home/sean/vsbc/lib/python3.6/site-packages/pystan/misc.py:399: FutureWarning: Conversion of the second argument of issubdtype from `float` to `np.floating` is deprecated. In future, it will be treated as `np.float64 == np.dtype(float).type`.\n",
      "  elif np.issubdtype(np.asarray(v).dtype, float):\n",
      "/home/sean/vsbc/lib/python3.6/site-packages/pystan/misc.py:399: FutureWarning: Conversion of the second argument of issubdtype from `float` to `np.floating` is deprecated. In future, it will be treated as `np.float64 == np.dtype(float).type`.\n",
      "  elif np.issubdtype(np.asarray(v).dtype, float):\n",
      "/home/sean/vsbc/lib/python3.6/site-packages/pystan/misc.py:399: FutureWarning: Conversion of the second argument of issubdtype from `float` to `np.floating` is deprecated. In future, it will be treated as `np.float64 == np.dtype(float).type`.\n",
      "  elif np.issubdtype(np.asarray(v).dtype, float):\n",
      "/home/sean/vsbc/lib/python3.6/site-packages/pystan/misc.py:399: FutureWarning: Conversion of the second argument of issubdtype from `float` to `np.floating` is deprecated. In future, it will be treated as `np.float64 == np.dtype(float).type`.\n",
      "  elif np.issubdtype(np.asarray(v).dtype, float):\n",
      "/home/sean/vsbc/lib/python3.6/site-packages/pystan/misc.py:399: FutureWarning: Conversion of the second argument of issubdtype from `float` to `np.floating` is deprecated. In future, it will be treated as `np.float64 == np.dtype(float).type`.\n",
      "  elif np.issubdtype(np.asarray(v).dtype, float):\n",
      "/home/sean/vsbc/lib/python3.6/site-packages/pystan/misc.py:399: FutureWarning: Conversion of the second argument of issubdtype from `float` to `np.floating` is deprecated. In future, it will be treated as `np.float64 == np.dtype(float).type`.\n",
      "  elif np.issubdtype(np.asarray(v).dtype, float):\n",
      "/home/sean/vsbc/lib/python3.6/site-packages/pystan/misc.py:399: FutureWarning: Conversion of the second argument of issubdtype from `float` to `np.floating` is deprecated. In future, it will be treated as `np.float64 == np.dtype(float).type`.\n",
      "  elif np.issubdtype(np.asarray(v).dtype, float):\n",
      "/home/sean/vsbc/lib/python3.6/site-packages/pystan/misc.py:399: FutureWarning: Conversion of the second argument of issubdtype from `float` to `np.floating` is deprecated. In future, it will be treated as `np.float64 == np.dtype(float).type`.\n",
      "  elif np.issubdtype(np.asarray(v).dtype, float):\n",
      "/home/sean/vsbc/lib/python3.6/site-packages/pystan/misc.py:399: FutureWarning: Conversion of the second argument of issubdtype from `float` to `np.floating` is deprecated. In future, it will be treated as `np.float64 == np.dtype(float).type`.\n",
      "  elif np.issubdtype(np.asarray(v).dtype, float):\n",
      "/home/sean/vsbc/lib/python3.6/site-packages/pystan/misc.py:399: FutureWarning: Conversion of the second argument of issubdtype from `float` to `np.floating` is deprecated. In future, it will be treated as `np.float64 == np.dtype(float).type`.\n",
      "  elif np.issubdtype(np.asarray(v).dtype, float):\n"
     ]
    },
    {
     "name": "stdout",
     "output_type": "stream",
     "text": [
      "run took 252.21365880966187s\n"
     ]
    }
   ],
   "source": [
    "num_reps = 10000\n",
    "data = dict(J=8, K=2, sigma = [15, 10, 16, 11,  9, 11, 10, 18])\n",
    "sbc = SBC(\"../code/gen_8schools.stan\", \"../code/8schools_centered.stan\",\n",
    "\n",
    "             dict(chains=1, iter=1100, warmup=1000), stats=[rmse_mean, rmse_averaged])\n",
    "reps = sbc.run(data, num_reps)\n",
    "reps.to_csv(str(sbc) + \".csv\")"
   ]
  },
  {
   "cell_type": "code",
   "execution_count": 4,
   "metadata": {},
   "outputs": [
    {
     "data": {
      "text/html": [
       "<div>\n",
       "<style scoped>\n",
       "    .dataframe tbody tr th:only-of-type {\n",
       "        vertical-align: middle;\n",
       "    }\n",
       "\n",
       "    .dataframe tbody tr th {\n",
       "        vertical-align: top;\n",
       "    }\n",
       "\n",
       "    .dataframe thead th {\n",
       "        text-align: right;\n",
       "    }\n",
       "</style>\n",
       "<table border=\"1\" class=\"dataframe\">\n",
       "  <thead>\n",
       "    <tr style=\"text-align: right;\">\n",
       "      <th></th>\n",
       "      <th>mu_n_eff</th>\n",
       "      <th>mu_order_stat</th>\n",
       "      <th>mu_prior</th>\n",
       "      <th>mu_rhat</th>\n",
       "      <th>mu_rmse_averaged</th>\n",
       "      <th>mu_rmse_mean</th>\n",
       "      <th>tau_n_eff</th>\n",
       "      <th>tau_order_stat</th>\n",
       "      <th>tau_prior</th>\n",
       "      <th>tau_rhat</th>\n",
       "      <th>tau_rmse_averaged</th>\n",
       "      <th>tau_rmse_mean</th>\n",
       "      <th>theta_n_eff</th>\n",
       "      <th>theta_order_stat</th>\n",
       "      <th>theta_prior</th>\n",
       "      <th>theta_rhat</th>\n",
       "      <th>theta_rmse_averaged</th>\n",
       "      <th>theta_rmse_mean</th>\n",
       "    </tr>\n",
       "  </thead>\n",
       "  <tbody>\n",
       "    <tr>\n",
       "      <th>0</th>\n",
       "      <td>22.0</td>\n",
       "      <td>100</td>\n",
       "      <td>-4.929305</td>\n",
       "      <td>1.086515</td>\n",
       "      <td>7.907465</td>\n",
       "      <td>7.373436</td>\n",
       "      <td>11.0</td>\n",
       "      <td>74</td>\n",
       "      <td>2.243735</td>\n",
       "      <td>1.190259</td>\n",
       "      <td>3.302723</td>\n",
       "      <td>2.116431</td>\n",
       "      <td>[22.0, 21.0, 55.0, 47.0, 52.0, 17.0, 75.0, 65.0]</td>\n",
       "      <td>[91, 69, 96, 94, 97, 79, 87, 96]</td>\n",
       "      <td>[-6.016123707682268, -1.8805191802782897, -4.1...</td>\n",
       "      <td>[1.087930805108158, 1.129267479969085, 0.99234...</td>\n",
       "      <td>24.541178</td>\n",
       "      <td>[8.697354304972805, 4.561749777568826, 6.84439...</td>\n",
       "    </tr>\n",
       "    <tr>\n",
       "      <th>1</th>\n",
       "      <td>19.0</td>\n",
       "      <td>8</td>\n",
       "      <td>5.715224</td>\n",
       "      <td>1.023168</td>\n",
       "      <td>5.550454</td>\n",
       "      <td>4.656602</td>\n",
       "      <td>15.0</td>\n",
       "      <td>0</td>\n",
       "      <td>9.169282</td>\n",
       "      <td>0.992441</td>\n",
       "      <td>6.606256</td>\n",
       "      <td>6.393447</td>\n",
       "      <td>[21.0, 27.0, 28.0, 23.0, 38.0, 40.0, 30.0, 31.0]</td>\n",
       "      <td>[83, 67, 84, 34, 0, 3, 0, 46]</td>\n",
       "      <td>[-5.007475845092317, -0.3081024040860152, -3.3...</td>\n",
       "      <td>[0.995409953307638, 1.0355761296788397, 1.0095...</td>\n",
       "      <td>20.550289</td>\n",
       "      <td>[6.095121292751217, 1.3957478517449147, 4.4358...</td>\n",
       "    </tr>\n",
       "    <tr>\n",
       "      <th>2</th>\n",
       "      <td>23.0</td>\n",
       "      <td>37</td>\n",
       "      <td>-0.646733</td>\n",
       "      <td>0.997319</td>\n",
       "      <td>3.849988</td>\n",
       "      <td>1.372225</td>\n",
       "      <td>5.0</td>\n",
       "      <td>16</td>\n",
       "      <td>6.001963</td>\n",
       "      <td>1.357093</td>\n",
       "      <td>3.238519</td>\n",
       "      <td>2.372864</td>\n",
       "      <td>[60.0, 52.0, 48.0, 40.0, 68.0, 54.0, 26.0, 48.0]</td>\n",
       "      <td>[75, 2, 81, 11, 90, 9, 57, 13]</td>\n",
       "      <td>[-6.759835420026633, 8.510909298035367, -6.525...</td>\n",
       "      <td>[1.0410507891268463, 0.9909731408513559, 0.998...</td>\n",
       "      <td>22.405784</td>\n",
       "      <td>[4.7665177919785995, 10.5042269260834, 4.53175...</td>\n",
       "    </tr>\n",
       "    <tr>\n",
       "      <th>3</th>\n",
       "      <td>46.0</td>\n",
       "      <td>92</td>\n",
       "      <td>-5.637770</td>\n",
       "      <td>0.996341</td>\n",
       "      <td>5.465405</td>\n",
       "      <td>4.454571</td>\n",
       "      <td>35.0</td>\n",
       "      <td>61</td>\n",
       "      <td>5.104206</td>\n",
       "      <td>0.994233</td>\n",
       "      <td>2.578482</td>\n",
       "      <td>0.744665</td>\n",
       "      <td>[85.0, 67.0, 92.0, 87.0, 96.0, 79.0, 57.0, 61.0]</td>\n",
       "      <td>[79, 79, 41, 46, 94, 47, 90, 66]</td>\n",
       "      <td>[-8.050461761736795, -3.703311299633374, -1.34...</td>\n",
       "      <td>[0.9933653132378608, 0.9929366438213028, 0.990...</td>\n",
       "      <td>22.085812</td>\n",
       "      <td>[6.625477435192238, 2.2783269730888165, 0.0819...</td>\n",
       "    </tr>\n",
       "    <tr>\n",
       "      <th>4</th>\n",
       "      <td>18.0</td>\n",
       "      <td>95</td>\n",
       "      <td>-7.084594</td>\n",
       "      <td>1.065091</td>\n",
       "      <td>6.912835</td>\n",
       "      <td>5.943820</td>\n",
       "      <td>22.0</td>\n",
       "      <td>13</td>\n",
       "      <td>6.424805</td>\n",
       "      <td>0.997642</td>\n",
       "      <td>3.020433</td>\n",
       "      <td>2.253544</td>\n",
       "      <td>[49.0, 17.0, 41.0, 19.0, 53.0, 21.0, 30.0, 100.0]</td>\n",
       "      <td>[95, 94, 90, 95, 87, 60, 80, 70]</td>\n",
       "      <td>[-6.673213800241708, -11.276464391402932, -7.0...</td>\n",
       "      <td>[1.0132924012411308, 1.084987719455118, 1.0417...</td>\n",
       "      <td>22.727717</td>\n",
       "      <td>[5.7379073443328155, 10.341157935494039, 6.116...</td>\n",
       "    </tr>\n",
       "  </tbody>\n",
       "</table>\n",
       "</div>"
      ],
      "text/plain": [
       "   mu_n_eff  mu_order_stat  mu_prior   mu_rhat  mu_rmse_averaged  \\\n",
       "0      22.0            100 -4.929305  1.086515          7.907465   \n",
       "1      19.0              8  5.715224  1.023168          5.550454   \n",
       "2      23.0             37 -0.646733  0.997319          3.849988   \n",
       "3      46.0             92 -5.637770  0.996341          5.465405   \n",
       "4      18.0             95 -7.084594  1.065091          6.912835   \n",
       "\n",
       "   mu_rmse_mean  tau_n_eff  tau_order_stat  tau_prior  tau_rhat  \\\n",
       "0      7.373436       11.0              74   2.243735  1.190259   \n",
       "1      4.656602       15.0               0   9.169282  0.992441   \n",
       "2      1.372225        5.0              16   6.001963  1.357093   \n",
       "3      4.454571       35.0              61   5.104206  0.994233   \n",
       "4      5.943820       22.0              13   6.424805  0.997642   \n",
       "\n",
       "   tau_rmse_averaged  tau_rmse_mean  \\\n",
       "0           3.302723       2.116431   \n",
       "1           6.606256       6.393447   \n",
       "2           3.238519       2.372864   \n",
       "3           2.578482       0.744665   \n",
       "4           3.020433       2.253544   \n",
       "\n",
       "                                         theta_n_eff  \\\n",
       "0   [22.0, 21.0, 55.0, 47.0, 52.0, 17.0, 75.0, 65.0]   \n",
       "1   [21.0, 27.0, 28.0, 23.0, 38.0, 40.0, 30.0, 31.0]   \n",
       "2   [60.0, 52.0, 48.0, 40.0, 68.0, 54.0, 26.0, 48.0]   \n",
       "3   [85.0, 67.0, 92.0, 87.0, 96.0, 79.0, 57.0, 61.0]   \n",
       "4  [49.0, 17.0, 41.0, 19.0, 53.0, 21.0, 30.0, 100.0]   \n",
       "\n",
       "                   theta_order_stat  \\\n",
       "0  [91, 69, 96, 94, 97, 79, 87, 96]   \n",
       "1     [83, 67, 84, 34, 0, 3, 0, 46]   \n",
       "2    [75, 2, 81, 11, 90, 9, 57, 13]   \n",
       "3  [79, 79, 41, 46, 94, 47, 90, 66]   \n",
       "4  [95, 94, 90, 95, 87, 60, 80, 70]   \n",
       "\n",
       "                                         theta_prior  \\\n",
       "0  [-6.016123707682268, -1.8805191802782897, -4.1...   \n",
       "1  [-5.007475845092317, -0.3081024040860152, -3.3...   \n",
       "2  [-6.759835420026633, 8.510909298035367, -6.525...   \n",
       "3  [-8.050461761736795, -3.703311299633374, -1.34...   \n",
       "4  [-6.673213800241708, -11.276464391402932, -7.0...   \n",
       "\n",
       "                                          theta_rhat  theta_rmse_averaged  \\\n",
       "0  [1.087930805108158, 1.129267479969085, 0.99234...            24.541178   \n",
       "1  [0.995409953307638, 1.0355761296788397, 1.0095...            20.550289   \n",
       "2  [1.0410507891268463, 0.9909731408513559, 0.998...            22.405784   \n",
       "3  [0.9933653132378608, 0.9929366438213028, 0.990...            22.085812   \n",
       "4  [1.0132924012411308, 1.084987719455118, 1.0417...            22.727717   \n",
       "\n",
       "                                     theta_rmse_mean  \n",
       "0  [8.697354304972805, 4.561749777568826, 6.84439...  \n",
       "1  [6.095121292751217, 1.3957478517449147, 4.4358...  \n",
       "2  [4.7665177919785995, 10.5042269260834, 4.53175...  \n",
       "3  [6.625477435192238, 2.2783269730888165, 0.0819...  \n",
       "4  [5.7379073443328155, 10.341157935494039, 6.116...  "
      ]
     },
     "execution_count": 4,
     "metadata": {},
     "output_type": "execute_result"
    }
   ],
   "source": [
    "reps.head()"
   ]
  },
  {
   "cell_type": "code",
   "execution_count": 11,
   "metadata": {},
   "outputs": [
    {
     "data": {
      "image/png": "[encoded data removed]",
      "text/plain": [
       "<matplotlib.figure.Figure at 0x7ff47831b320>"
      ]
     },
     "metadata": {},
     "output_type": "display_data"
    }
   ],
   "source": [
    "reps[\"tau_order_stat\"].hist(bins=101)\n",
    "plt.savefig(\"sbac_8schoolscp_tau_100.eps\")"
   ]
  },
  {
   "cell_type": "code",
   "execution_count": 12,
   "metadata": {},
   "outputs": [
    {
     "data": {
      "image/png": "[encoded data removed]",
      "text/plain": [
       "<matplotlib.figure.Figure at 0x7ff47cc1cb70>"
      ]
     },
     "metadata": {},
     "output_type": "display_data"
    }
   ],
   "source": [
    "#reps[\"theta_order_stat\"] = reps[\"theta_order_stat\"].apply(lambda s: list(map(int, s[1:-1].split())))\n",
    "pd.Series(([x[0] for x in reps[\"theta_order_stat\"]])).hist(bins=101)\n",
    "plt.savefig(\"sbac_8schoolscp_theta1_100.eps\")"
   ]
  },
  {
   "cell_type": "code",
   "execution_count": null,
   "metadata": {},
   "outputs": [],
   "source": []
  },
  {
   "cell_type": "code",
   "execution_count": null,
   "metadata": {},
   "outputs": [],
   "source": []
  }
 ],
 "metadata": {
  "kernelspec": {
   "display_name": "Python 3",
   "language": "python",
   "name": "python3"
  },
  "language_info": {
   "codemirror_mode": {
    "name": "ipython",
    "version": 3
   },
   "file_extension": ".py",
   "mimetype": "text/x-python",
   "name": "python",
   "nbconvert_exporter": "python",
   "pygments_lexer": "ipython3",
   "version": "3.6.3"
  }
 },
 "nbformat": 4,
 "nbformat_minor": 2
}
