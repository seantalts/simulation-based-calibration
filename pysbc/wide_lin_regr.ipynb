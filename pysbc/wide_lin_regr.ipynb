{
 "cells": [
  {
   "cell_type": "code",
   "execution_count": 1,
   "metadata": {},
   "outputs": [],
   "source": [
    "%load_ext autoreload\n",
    "%autoreload 2\n",
    "%matplotlib inline"
   ]
  },
  {
   "cell_type": "code",
   "execution_count": 2,
   "metadata": {},
   "outputs": [],
   "source": [
    "from sbc import ThinSBC, rmse_mean, rmse_averaged\n",
    "import numpy as np\n",
    "import pandas as pd\n",
    "import matplotlib as mpl\n",
    "import matplotlib.pyplot as plt\n",
    "mpl.rcParams[\"figure.figsize\"] = \"20, 10\""
   ]
  },
  {
   "cell_type": "code",
   "execution_count": 7,
   "metadata": {},
   "outputs": [
    {
     "name": "stdout",
     "output_type": "stream",
     "text": [
      "data {\n",
      "  int<lower=1> N;\n",
      "  real X[N];\n",
      "}\n",
      "\n",
      "generated quantities {\n",
      "  real beta;\n",
      "  real alpha;\n",
      "  real y[N];\n",
      "\n",
      "  beta = normal_rng(0, 10);\n",
      "  alpha = normal_rng(0, 10);\n",
      "\n",
      "  for (n in 1:N)\n",
      "    y[n] = normal_rng(X[n] * beta + alpha, 1.2);\n",
      "}\n",
      "\n",
      "data {\n",
      "  int<lower=1> N;\n",
      "  vector[N] X;\n",
      "  vector[N] y;\n",
      "}\n",
      "\n",
      "parameters {\n",
      "  real beta;\n",
      "  real alpha;\n",
      "}\n",
      "\n",
      "model {\n",
      "  beta ~ normal(0, 1);\n",
      "  alpha ~ normal(0, 10);\n",
      "\n",
      "  y ~ normal(X * beta + alpha, 1.2);\n",
      "}\n",
      "\n",
      "Using cached StanModel\n",
      "Using cached StanModel\n",
      "Using  24  cores.\n"
     ]
    },
    {
     "name": "stderr",
     "output_type": "stream",
     "text": [
      "/home/sean/vsbc/lib/python3.6/site-packages/pystan/misc.py:399: FutureWarning: Conversion of the second argument of issubdtype from `float` to `np.floating` is deprecated. In future, it will be treated as `np.float64 == np.dtype(float).type`.\n",
      "  elif np.issubdtype(np.asarray(v).dtype, float):\n"
     ]
    },
    {
     "name": "stdout",
     "output_type": "stream",
     "text": [
      "Redoing! needed 2063\n",
      "Redoing! needed 2142\n",
      "Redoing! needed 2136\n",
      "Redoing! needed 2047\n",
      "Redoing! needed 2020\n",
      "Redoing! needed 2010\n",
      "Redoing! needed 2212\n",
      "Redoing! needed 2025\n",
      "Redoing! needed 2005\n",
      "Redoing! needed 2282\n",
      "Redoing! needed 2418\n",
      "Redoing! needed 2265\n",
      "Redoing! needed 2025\n",
      "Redoing! needed 2069\n",
      "Redoing! needed 2156\n",
      "Redoing! needed 2010\n",
      "Redoing! needed 2226\n",
      "Redoing! needed 2104\n",
      "Redoing! needed 2104\n",
      "Redoing! needed 2176\n",
      "Redoing! needed 2036\n",
      "Redoing! needed 2069\n",
      "Redoing! needed 2183\n",
      "Redoing! needed 2015\n",
      "run took 239.0561821460724s\n"
     ]
    }
   ],
   "source": [
    "N=25\n",
    "num_reps = 10000\n",
    "data = dict(N=N, X=np.random.normal(0, 5, N))\n",
    "with open(\"../code/gen_lin_regr_c.stan\") as f: print(f.read())\n",
    "with open(\"../code/lin_regr_c_wide.stan\") as f: print(f.read())\n",
    "sbc = ThinSBC(100, \"../code/gen_lin_regr_c.stan\", \"../code/lin_regr_c_wide.stan\",\n",
    "\n",
    "             dict(chains=1, iter=2000, warmup=1000), stats=[rmse_mean, rmse_averaged])\n",
    "reps = sbc.run(data, num_reps)\n",
    "reps.to_csv(str(sbc) + \".csv\")"
   ]
  },
  {
   "cell_type": "code",
   "execution_count": 8,
   "metadata": {},
   "outputs": [
    {
     "data": {
      "text/html": [
       "<div>\n",
       "<style scoped>\n",
       "    .dataframe tbody tr th:only-of-type {\n",
       "        vertical-align: middle;\n",
       "    }\n",
       "\n",
       "    .dataframe tbody tr th {\n",
       "        vertical-align: top;\n",
       "    }\n",
       "\n",
       "    .dataframe thead th {\n",
       "        text-align: right;\n",
       "    }\n",
       "</style>\n",
       "<table border=\"1\" class=\"dataframe\">\n",
       "  <thead>\n",
       "    <tr style=\"text-align: right;\">\n",
       "      <th></th>\n",
       "      <th>alpha_n_eff</th>\n",
       "      <th>alpha_order_stat</th>\n",
       "      <th>alpha_prior</th>\n",
       "      <th>alpha_rhat</th>\n",
       "      <th>alpha_rmse_averaged</th>\n",
       "      <th>alpha_rmse_mean</th>\n",
       "      <th>beta_n_eff</th>\n",
       "      <th>beta_order_stat</th>\n",
       "      <th>beta_prior</th>\n",
       "      <th>beta_rhat</th>\n",
       "      <th>beta_rmse_averaged</th>\n",
       "      <th>beta_rmse_mean</th>\n",
       "    </tr>\n",
       "  </thead>\n",
       "  <tbody>\n",
       "    <tr>\n",
       "      <th>0</th>\n",
       "      <td>456.0</td>\n",
       "      <td>67</td>\n",
       "      <td>1.282804</td>\n",
       "      <td>1.003078</td>\n",
       "      <td>0.277488</td>\n",
       "      <td>0.123257</td>\n",
       "      <td>440.0</td>\n",
       "      <td>32</td>\n",
       "      <td>-8.305083</td>\n",
       "      <td>1.001802</td>\n",
       "      <td>0.069472</td>\n",
       "      <td>0.031298</td>\n",
       "    </tr>\n",
       "    <tr>\n",
       "      <th>1</th>\n",
       "      <td>437.0</td>\n",
       "      <td>42</td>\n",
       "      <td>-5.318037</td>\n",
       "      <td>0.999085</td>\n",
       "      <td>0.268542</td>\n",
       "      <td>0.069781</td>\n",
       "      <td>308.0</td>\n",
       "      <td>27</td>\n",
       "      <td>0.621040</td>\n",
       "      <td>0.999595</td>\n",
       "      <td>0.079372</td>\n",
       "      <td>0.042689</td>\n",
       "    </tr>\n",
       "    <tr>\n",
       "      <th>2</th>\n",
       "      <td>437.0</td>\n",
       "      <td>15</td>\n",
       "      <td>-6.989137</td>\n",
       "      <td>0.999165</td>\n",
       "      <td>0.341074</td>\n",
       "      <td>0.223744</td>\n",
       "      <td>320.0</td>\n",
       "      <td>95</td>\n",
       "      <td>-4.110886</td>\n",
       "      <td>0.999654</td>\n",
       "      <td>0.121146</td>\n",
       "      <td>0.105319</td>\n",
       "    </tr>\n",
       "    <tr>\n",
       "      <th>3</th>\n",
       "      <td>678.0</td>\n",
       "      <td>33</td>\n",
       "      <td>9.057296</td>\n",
       "      <td>1.000227</td>\n",
       "      <td>0.291647</td>\n",
       "      <td>0.114833</td>\n",
       "      <td>579.0</td>\n",
       "      <td>42</td>\n",
       "      <td>-6.854063</td>\n",
       "      <td>1.006833</td>\n",
       "      <td>0.068017</td>\n",
       "      <td>0.018860</td>\n",
       "    </tr>\n",
       "    <tr>\n",
       "      <th>4</th>\n",
       "      <td>503.0</td>\n",
       "      <td>45</td>\n",
       "      <td>11.723939</td>\n",
       "      <td>0.999128</td>\n",
       "      <td>0.273565</td>\n",
       "      <td>0.037714</td>\n",
       "      <td>510.0</td>\n",
       "      <td>26</td>\n",
       "      <td>7.132623</td>\n",
       "      <td>0.999561</td>\n",
       "      <td>0.067634</td>\n",
       "      <td>0.033192</td>\n",
       "    </tr>\n",
       "  </tbody>\n",
       "</table>\n",
       "</div>"
      ],
      "text/plain": [
       "   alpha_n_eff  alpha_order_stat  alpha_prior  alpha_rhat  \\\n",
       "0        456.0                67     1.282804    1.003078   \n",
       "1        437.0                42    -5.318037    0.999085   \n",
       "2        437.0                15    -6.989137    0.999165   \n",
       "3        678.0                33     9.057296    1.000227   \n",
       "4        503.0                45    11.723939    0.999128   \n",
       "\n",
       "   alpha_rmse_averaged  alpha_rmse_mean  beta_n_eff  beta_order_stat  \\\n",
       "0             0.277488         0.123257       440.0               32   \n",
       "1             0.268542         0.069781       308.0               27   \n",
       "2             0.341074         0.223744       320.0               95   \n",
       "3             0.291647         0.114833       579.0               42   \n",
       "4             0.273565         0.037714       510.0               26   \n",
       "\n",
       "   beta_prior  beta_rhat  beta_rmse_averaged  beta_rmse_mean  \n",
       "0   -8.305083   1.001802            0.069472        0.031298  \n",
       "1    0.621040   0.999595            0.079372        0.042689  \n",
       "2   -4.110886   0.999654            0.121146        0.105319  \n",
       "3   -6.854063   1.006833            0.068017        0.018860  \n",
       "4    7.132623   0.999561            0.067634        0.033192  "
      ]
     },
     "execution_count": 8,
     "metadata": {},
     "output_type": "execute_result"
    }
   ],
   "source": [
    "reps.head()"
   ]
  },
  {
   "cell_type": "code",
   "execution_count": 14,
   "metadata": {},
   "outputs": [
    {
     "data": {
      "image/png": "[encoded data removed]",
      "text/plain": [
       "<matplotlib.figure.Figure at 0x7f55d0569be0>"
      ]
     },
     "metadata": {},
     "output_type": "display_data"
    }
   ],
   "source": [
    "reps[\"alpha_order_stat\"].hist(bins=31)\n",
    "plt.savefig(\"wide_alpha.eps\")"
   ]
  },
  {
   "cell_type": "code",
   "execution_count": 13,
   "metadata": {},
   "outputs": [
    {
     "data": {
      "image/png": "[encoded data removed]",
      "text/plain": [
       "<matplotlib.figure.Figure at 0x7f55d0742198>"
      ]
     },
     "metadata": {},
     "output_type": "display_data"
    }
   ],
   "source": [
    "reps[\"beta_order_stat\"].hist(bins=31)\n",
    "plt.savefig(\"wide_beta.eps\")"
   ]
  },
  {
   "cell_type": "code",
   "execution_count": null,
   "metadata": {},
   "outputs": [],
   "source": []
  }
 ],
 "metadata": {
  "kernelspec": {
   "display_name": "Python 3",
   "language": "python",
   "name": "python3"
  },
  "language_info": {
   "codemirror_mode": {
    "name": "ipython",
    "version": 2
   },
   "file_extension": ".py",
   "mimetype": "text/x-python",
   "name": "python",
   "nbconvert_exporter": "python",
   "pygments_lexer": "ipython2",
   "version": "2.7.10"
  }
 },
 "nbformat": 4,
 "nbformat_minor": 2
}
